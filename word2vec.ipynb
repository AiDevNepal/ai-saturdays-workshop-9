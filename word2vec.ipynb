{
 "cells": [
  {
   "cell_type": "code",
   "execution_count": 157,
   "metadata": {},
   "outputs": [],
   "source": [
    "import nltk\n",
    "\n",
    "import matplotlib.pyplot as plt\n",
    "import numpy as np\n",
    "\n",
    "%matplotlib inline"
   ]
  },
  {
   "cell_type": "code",
   "execution_count": 158,
   "metadata": {},
   "outputs": [],
   "source": [
    "from gensim.models import Word2Vec"
   ]
  },
  {
   "cell_type": "markdown",
   "metadata": {},
   "source": [
    "## word2vec\n",
    "Before learning about word2vec, the concept of **word embedding** is highly required.  \n",
    "\n",
    "#### Word Embedding\n",
    "Word embedding is nothing but a feature extracting technique where words are represented in numerical forms (vectors) that can be used by computers for further process. In order words, it is one of the means to encode textual data into \n",
    "vector representation. Some feature representations of text can be:\n",
    "- one hot encoding\n",
    "- term frequence\n",
    "- tf-idf\n",
    "\n",
    "The main problem with these features is that they are not able to fully encode the actual meaning of the text. ANd also not to forget that text manipuation cannot be done with such features. Moreover, since textual data is highly concentrated to some type of **concepts**, it is required to encode these data into a **concept space** where similar words/tokens/documents occupy some regions of the space. \n",
    "\n",
    "Think of this concept space as 3 dimensional space (although it is a **n** dimensional space) where every point represent word/token/document.\n",
    "\n",
    "In such space, the encodings for **cat**, **tiger**, etc may lie in same cluster. Hence, giving us the information that those are related tokens.\n",
    "\n",
    "### So, what is word2vec?\n",
    "**word2vec** is nothing but a machine learning technique (to be more precise, it is a set of models) to produce word embeddings. Each vector is a set of floating point number that be used for various mathematical calculation.\n",
    "\n",
    "#### Example\n",
    "Using word2vec, we can do some amazing vector arithmetic like:\n",
    "- man - woman + king ≈ queen\n",
    "- paris - france + italy ≈ rome\n",
    "\n",
    "\n",
    "Each term in the equation is a vector representation of that token"
   ]
  },
  {
   "cell_type": "code",
   "execution_count": 159,
   "metadata": {},
   "outputs": [],
   "source": [
    "documents = [\n",
    "    \"i am nish. i am paradox. i am gru\",\n",
    "    \"i love coffee. coffee is life. i am caffeine addict. me without caffeine is like a dead man\",\n",
    "    \"i like to go into deep conversation related to life and shit\",\n",
    "    \"life is itself a paradox for me.\"\n",
    "    ]"
   ]
  },
  {
   "cell_type": "code",
   "execution_count": 160,
   "metadata": {},
   "outputs": [
    {
     "data": {
      "text/plain": [
       "[['i', 'am', 'nish', '.', 'i', 'am', 'paradox', '.', 'i', 'am', 'gru'],\n",
       " ['i',\n",
       "  'love',\n",
       "  'coffee',\n",
       "  '.',\n",
       "  'coffee',\n",
       "  'is',\n",
       "  'life',\n",
       "  '.',\n",
       "  'i',\n",
       "  'am',\n",
       "  'caffeine',\n",
       "  'addict',\n",
       "  '.',\n",
       "  'me',\n",
       "  'without',\n",
       "  'caffeine',\n",
       "  'is',\n",
       "  'like',\n",
       "  'a',\n",
       "  'dead',\n",
       "  'man'],\n",
       " ['i',\n",
       "  'like',\n",
       "  'to',\n",
       "  'go',\n",
       "  'into',\n",
       "  'deep',\n",
       "  'conversation',\n",
       "  'related',\n",
       "  'to',\n",
       "  'life',\n",
       "  'and',\n",
       "  'shit'],\n",
       " ['life', 'is', 'itself', 'a', 'paradox', 'for', 'me', '.']]"
      ]
     },
     "execution_count": 160,
     "metadata": {},
     "output_type": "execute_result"
    }
   ],
   "source": [
    "# tokenize\n",
    "tokens = [nltk.word_tokenize(doc) for doc in documents]\n",
    "tokens"
   ]
  },
  {
   "cell_type": "code",
   "execution_count": 161,
   "metadata": {},
   "outputs": [
    {
     "name": "stdout",
     "output_type": "stream",
     "text": [
      "Word2Vec(vocab=28, size=2, alpha=0.025)\n",
      "['i', 'am', 'nish', '.', 'paradox', 'gru', 'love', 'coffee', 'is', 'life', 'caffeine', 'addict', 'me', 'without', 'like', 'a', 'dead', 'man', 'to', 'go', 'into', 'deep', 'conversation', 'related', 'and', 'shit', 'itself', 'for']\n"
     ]
    }
   ],
   "source": [
    "# train model\n",
    "model = Word2Vec(tokens, min_count=1, size=2)\n",
    "print(model)\n",
    "\n",
    "# access vocabulary\n",
    "words = list(model.wv.vocab)\n",
    "print(words)"
   ]
  },
  {
   "cell_type": "code",
   "execution_count": 162,
   "metadata": {},
   "outputs": [
    {
     "name": "stdout",
     "output_type": "stream",
     "text": [
      "[0.09526534 0.06825305]\n",
      "[-0.1351302 -0.0813541]\n",
      "[-0.04135445 -0.14138283]\n"
     ]
    },
    {
     "name": "stderr",
     "output_type": "stream",
     "text": [
      "/home/paradox/anaconda3/envs/aidevnepal/lib/python3.6/site-packages/ipykernel_launcher.py:2: DeprecationWarning: Call to deprecated `__getitem__` (Method will be removed in 4.0.0, use self.wv.__getitem__() instead).\n",
      "  \n",
      "/home/paradox/anaconda3/envs/aidevnepal/lib/python3.6/site-packages/ipykernel_launcher.py:3: DeprecationWarning: Call to deprecated `__getitem__` (Method will be removed in 4.0.0, use self.wv.__getitem__() instead).\n",
      "  This is separate from the ipykernel package so we can avoid doing imports until\n",
      "/home/paradox/anaconda3/envs/aidevnepal/lib/python3.6/site-packages/ipykernel_launcher.py:4: DeprecationWarning: Call to deprecated `__getitem__` (Method will be removed in 4.0.0, use self.wv.__getitem__() instead).\n",
      "  after removing the cwd from sys.path.\n"
     ]
    }
   ],
   "source": [
    "# access vector\n",
    "print(model['nish'])\n",
    "print(model['gru'])\n",
    "print(model['paradox'])"
   ]
  },
  {
   "cell_type": "code",
   "execution_count": 163,
   "metadata": {},
   "outputs": [
    {
     "name": "stdout",
     "output_type": "stream",
     "text": [
      "Word2Vec(vocab=28, size=2, alpha=0.025)\n"
     ]
    }
   ],
   "source": [
    "# save model\n",
    "model.save('models/paradoxicalmodel.bin')\n",
    "\n",
    "# load model\n",
    "new_model = Word2Vec.load('models/paradoxicalmodel.bin')\n",
    "print(new_model)"
   ]
  },
  {
   "cell_type": "code",
   "execution_count": 164,
   "metadata": {},
   "outputs": [
    {
     "name": "stdout",
     "output_type": "stream",
     "text": [
      "['i', 'am', 'nish', '.', 'paradox', 'gru', 'love', 'coffee', 'is', 'life', 'caffeine', 'addict', 'me', 'without', 'like', 'a', 'dead', 'man', 'to', 'go', 'into', 'deep', 'conversation', 'related', 'and', 'shit', 'itself', 'for']\n",
      "[[-0.00650086 -0.13283001]\n",
      " [ 0.1258309  -0.01918388]\n",
      " [ 0.09526534  0.06825305]\n",
      " [ 0.03255177  0.06937601]\n",
      " [-0.04135445 -0.14138283]\n",
      " [-0.1351302  -0.0813541 ]\n",
      " [ 0.13468716  0.15793537]\n",
      " [-0.11363506 -0.22470875]\n",
      " [ 0.1898372  -0.1928096 ]\n",
      " [-0.02172866 -0.13514195]\n",
      " [ 0.13733195  0.08787291]\n",
      " [-0.19181547 -0.11060768]\n",
      " [-0.13931362  0.01906134]\n",
      " [-0.06514049  0.19263817]\n",
      " [ 0.04932793 -0.22351421]\n",
      " [-0.24702102 -0.22067569]\n",
      " [ 0.12134027 -0.10402404]\n",
      " [ 0.19279669 -0.11901712]\n",
      " [-0.16676915  0.05674039]\n",
      " [ 0.01151953 -0.03569725]\n",
      " [-0.07322232 -0.0254494 ]\n",
      " [ 0.17545779 -0.03898015]\n",
      " [-0.06363101  0.07209568]\n",
      " [ 0.0536987  -0.06632265]\n",
      " [ 0.22123511 -0.10140429]\n",
      " [ 0.1201303   0.23724684]\n",
      " [ 0.05703246  0.08194161]\n",
      " [ 0.21267246  0.01736152]]\n"
     ]
    },
    {
     "name": "stderr",
     "output_type": "stream",
     "text": [
      "/home/paradox/anaconda3/envs/aidevnepal/lib/python3.6/site-packages/ipykernel_launcher.py:3: DeprecationWarning: Call to deprecated `__getitem__` (Method will be removed in 4.0.0, use self.wv.__getitem__() instead).\n",
      "  This is separate from the ipykernel package so we can avoid doing imports until\n"
     ]
    },
    {
     "data": {
      "text/plain": [
       "<matplotlib.collections.PathCollection at 0x7f1fa7170550>"
      ]
     },
     "execution_count": 164,
     "metadata": {},
     "output_type": "execute_result"
    },
    {
     "data": {
      "image/png": "[encoded data removed]",
      "text/plain": [
       "<Figure size 432x288 with 1 Axes>"
      ]
     },
     "metadata": {},
     "output_type": "display_data"
    }
   ],
   "source": [
    "# visualize\n",
    "print(words)\n",
    "vectors = model[words]\n",
    "print(vectors)\n",
    "X = vectors[:, 0]\n",
    "Y = vectors[:, 1]\n",
    "plt.scatter(X, Y)"
   ]
  },
  {
   "cell_type": "code",
   "execution_count": 165,
   "metadata": {},
   "outputs": [
    {
     "data": {
      "image/png": "[encoded data removed]",
      "text/plain": [
       "<Figure size 432x288 with 1 Axes>"
      ]
     },
     "metadata": {},
     "output_type": "display_data"
    }
   ],
   "source": [
    "# scatter plot with labelled point\n",
    "fig, ax = plt.subplots()\n",
    "ax.scatter(X, Y)\n",
    "\n",
    "for i, txt in enumerate(words):\n",
    "    ax.annotate(txt, (X[i],Y[i]))"
   ]
  },
  {
   "cell_type": "code",
   "execution_count": 166,
   "metadata": {},
   "outputs": [
    {
     "name": "stderr",
     "output_type": "stream",
     "text": [
      "/home/paradox/anaconda3/envs/aidevnepal/lib/python3.6/site-packages/ipykernel_launcher.py:2: DeprecationWarning: Call to deprecated `most_similar` (Method will be removed in 4.0.0, use self.wv.most_similar() instead).\n",
      "  \n"
     ]
    },
    {
     "data": {
      "text/plain": [
       "[('i', 0.9938991665840149),\n",
       " ('paradox', 0.9921799302101135),\n",
       " ('coffee', 0.952705979347229)]"
      ]
     },
     "execution_count": 166,
     "metadata": {},
     "output_type": "execute_result"
    }
   ],
   "source": [
    "# find top 'n' similar tokens\n",
    "model.most_similar(positive=['life'], topn=3)"
   ]
  },
  {
   "cell_type": "code",
   "execution_count": 167,
   "metadata": {},
   "outputs": [
    {
     "name": "stderr",
     "output_type": "stream",
     "text": [
      "/home/paradox/anaconda3/envs/aidevnepal/lib/python3.6/site-packages/ipykernel_launcher.py:5: DeprecationWarning: Call to deprecated `__getitem__` (Method will be removed in 4.0.0, use self.wv.__getitem__() instead).\n",
      "  \"\"\"\n",
      "/home/paradox/anaconda3/envs/aidevnepal/lib/python3.6/site-packages/ipykernel_launcher.py:6: DeprecationWarning: Call to deprecated `__getitem__` (Method will be removed in 4.0.0, use self.wv.__getitem__() instead).\n",
      "  \n"
     ]
    },
    {
     "data": {
      "text/plain": [
       "-0.027535845"
      ]
     },
     "execution_count": 167,
     "metadata": {},
     "output_type": "execute_result"
    }
   ],
   "source": [
    "# word2vec arithmetic\n",
    "\n",
    "# example -> if i remove coffee from life, there will be no addiction\n",
    "# so, the similarity of res and addict is negative -> the vectors are far apart (beyond 90 degree)\n",
    "res = model['life'] - model['coffee']\n",
    "np.dot(res, model['addict'])"
   ]
  },
  {
   "cell_type": "code",
   "execution_count": null,
   "metadata": {},
   "outputs": [],
   "source": []
  }
 ],
 "metadata": {
  "kernelspec": {
   "display_name": "Python 3",
   "language": "python",
   "name": "python3"
  },
  "language_info": {
   "codemirror_mode": {
    "name": "ipython",
    "version": 3
   },
   "file_extension": ".py",
   "mimetype": "text/x-python",
   "name": "python",
   "nbconvert_exporter": "python",
   "pygments_lexer": "ipython3",
   "version": "3.6.4"
  }
 },
 "nbformat": 4,
 "nbformat_minor": 2
}
